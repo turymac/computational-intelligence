{
 "cells": [
  {
   "cell_type": "code",
   "execution_count": 249,
   "metadata": {},
   "outputs": [],
   "source": [
    "from itertools import product\n",
    "from random import random, randint, shuffle, seed\n",
    "import numpy as np\n",
    "from scipy import sparse\n",
    "from random import random, choice, randint\n",
    "from functools import reduce\n",
    "from collections import namedtuple\n",
    "from copy import copy\n",
    "from math import floor, exp \n",
    "\n",
    "def make_set_covering_problem(num_points, num_sets, density):\n",
    "    \"\"\"Returns a sparse array where rows are sets and columns are the covered items\"\"\"\n",
    "    seed(num_points*2654435761+num_sets+density)\n",
    "    #seed(random())\n",
    "    sets = sparse.lil_array((num_sets, num_points), dtype=bool)\n",
    "    for s, p in product(range(num_sets), range(num_points)):\n",
    "        if random() < density:\n",
    "            sets[s, p] = True\n",
    "    for p in range(num_points):\n",
    "        sets[randint(0, num_sets-1), p] = True\n",
    "    return sets\n"
   ]
  },
  {
   "cell_type": "code",
   "execution_count": 250,
   "metadata": {},
   "outputs": [],
   "source": [
    "NUM_SETS = 1000\n",
    "NUM_POINTS = 1000\n",
    "DENSITY = .3\n",
    "\n",
    "SETS = make_set_covering_problem(NUM_SETS, NUM_POINTS, DENSITY)\n",
    "SETS = SETS.toarray()"
   ]
  },
  {
   "cell_type": "markdown",
   "metadata": {},
   "source": [
    "### In my idea a set that led to not an improvement when removed from solution need to be switched with less probability\n",
    "### The opposite for a set that led to not an improvement when put in solution"
   ]
  },
  {
   "cell_type": "code",
   "execution_count": 251,
   "metadata": {},
   "outputs": [],
   "source": [
    "survived = [ 0 for _ in range(NUM_SETS)]\n",
    "dead = [ 0 for _ in range(NUM_SETS)]"
   ]
  },
  {
   "cell_type": "code",
   "execution_count": null,
   "metadata": {},
   "outputs": [],
   "source": [
    "def f(x): #FROM ARRAY OF BOOLEAN TO ARRAY OF 0,1\n",
    "    if x:\n",
    "        return 1\n",
    "    else:\n",
    "        return 0"
   ]
  },
  {
   "cell_type": "markdown",
   "metadata": {},
   "source": [
    "### How many sets cover i-th segment"
   ]
  },
  {
   "cell_type": "code",
   "execution_count": null,
   "metadata": {},
   "outputs": [],
   "source": [
    "scores = list(map(lambda x : 1/x,\n",
    "        reduce(\n",
    "            lambda x,y : x+y,\n",
    "            [list(map(f,SETS[i])) for i in range(NUM_SETS)],\n",
    "            np.array([False for _ in range(NUM_POINTS)]),\n",
    "    )))"
   ]
  },
  {
   "cell_type": "code",
   "execution_count": 252,
   "metadata": {},
   "outputs": [],
   "source": [
    "def fitness(state): #For less dense tiles\n",
    "    cost = sum(state)\n",
    "    valid = np.sum(\n",
    "        reduce(\n",
    "            np.logical_or,\n",
    "            [SETS[i] for i, t in enumerate(state) if t],\n",
    "            np.array([False for _ in range(NUM_POINTS)]),\n",
    "        )\n",
    "    )\n",
    "    return valid, -cost, valuta_sol(state)\n",
    "\n",
    "def fitness2(state): #For more dense tiles\n",
    "    cost = sum(state)\n",
    "    valid = np.sum(\n",
    "        reduce(\n",
    "            np.logical_or,\n",
    "            [SETS[i] for i, t in enumerate(state) if t],\n",
    "            np.array([False for _ in range(NUM_POINTS)]),\n",
    "        )\n",
    "    )\n",
    "    return valid, -cost\n",
    "\n",
    "def valuta_sol(state): #Based on how many less covered segments my sol covers\n",
    "    return sum([scores[i] for i,t in enumerate(state) if t])\n",
    "\n",
    "def find_index(state, swap_in):\n",
    "    not_found = True\n",
    "    devo_effettuare_swap_in = random() <= swap_in\n",
    "    while(not_found):\n",
    "        index = randint(0, NUM_POINTS - 1)\n",
    "        if(not devo_effettuare_swap_in and any(state)):\n",
    "            if(state[index]): #SWAP OUT\n",
    "                if(survived[index] == 0):\n",
    "                    not_found = False\n",
    "                else:\n",
    "                    not_found = random() >= 1/survived[index]\n",
    "        else:   #SWAP IN\n",
    "            if(dead[index] == 0):\n",
    "                not_found = False\n",
    "            else:\n",
    "                not_found = random() >= 1/dead[index]\n",
    "    return index\n",
    "\n",
    "\n",
    "def tweak(state, temperature, swap_in, n_evaluation):\n",
    "    act_best = copy(state)\n",
    "    act_fitness_best = fitness(state)\n",
    "    improved = False\n",
    "    for _ in range(n_evaluation):\n",
    "        tmp_state = copy(state)\n",
    "        indexes = list()\n",
    "        for _ in range(floor(temperature)):\n",
    "            index = find_index(tmp_state, swap_in)\n",
    "            tmp_state[index] = not tmp_state[index]\n",
    "            indexes.append(index)\n",
    "        tmp_fitness = fitness(tmp_state)\n",
    "        if(tmp_fitness > act_fitness_best):\n",
    "            act_best = copy(tmp_state)\n",
    "            act_fitness_best = tmp_fitness\n",
    "            improved = True\n",
    "            for i in range(NUM_SETS):\n",
    "                survived[i] = 0\n",
    "                dead[i] = 0\n",
    "        else:\n",
    "            for index in indexes:\n",
    "                if tmp_state[index]:\n",
    "                    dead[index] += 1\n",
    "                else:\n",
    "                    survived[index] += 1\n",
    "            \n",
    "    return act_best, indexes, improved"
   ]
  },
  {
   "cell_type": "code",
   "execution_count": 253,
   "metadata": {},
   "outputs": [],
   "source": [
    "original_state = [choice([False]) for _ in range(NUM_SETS)]\n",
    "current_state = copy(original_state)"
   ]
  },
  {
   "cell_type": "code",
   "execution_count": null,
   "metadata": {},
   "outputs": [],
   "source": [
    "if DENSITY == .3:\n",
    "    early_termination = 10\n",
    "    fitness = fitness\n",
    "    num_gen = 100\n",
    "else:\n",
    "    early_termination = 3\n",
    "    fitness = fitness2\n",
    "    num_gen = 10    \n",
    "if NUM_SETS == 100:\n",
    "    alpha = 2\n",
    "    n_evaluation = 500 #Number of mutation to evaluate at each step (Steepest step)\n",
    "elif NUM_SETS == 1000:\n",
    "    alpha = 4\n",
    "    n_evaluation = 500 #Number of mutation to evaluate at each step (Steepest step)\n",
    "elif NUM_SETS == 5000:\n",
    "    alpha = 5\n",
    "    n_evaluation = 100"
   ]
  },
  {
   "cell_type": "code",
   "execution_count": 254,
   "metadata": {},
   "outputs": [
    {
     "name": "stdout",
     "output_type": "stream",
     "text": [
      "(99, -13)\n",
      "(100, -14)\n",
      "(100, -13)\n",
      "(100, -12)\n",
      "(100, -11)\n",
      "(100, -10)\n",
      "(100, -9)\n"
     ]
    }
   ],
   "source": [
    "no_improv = 0   #Number of step w/o improving solution\n",
    "beta = 0        #Parameter for tuning temperature (number of swap at each mutation) \n",
    "\n",
    "for step in range(num_gen):\n",
    "    beta+=1\n",
    "    if no_improv >= early_termination: #By experience, should be optimized\n",
    "        break\n",
    "    if random() <= .1 and fitness(current_state) > (NUM_SETS,-NUM_POINTS,0):    #I want a random restart only if i'm taking all segments\n",
    "        no_improv = 0\n",
    "        beta = 0\n",
    "        current_state = copy(original_state) #Random restart\n",
    "    temperature = alpha*exp(-0.15*beta)+1\n",
    "    swap_in = 0.5 #Probability of swapping out or swapping in\n",
    "    #swap_in = -0.07*step+1+.08*no_improv #Early try of tuning\n",
    "    new_state, indexes, improved = tweak(current_state, temperature, swap_in, n_evaluation) #Steepest steph\n",
    "    if improved:\n",
    "        no_improv = 0\n",
    "        current_state = new_state\n",
    "        print(fitness(current_state), step)    \n",
    "    else:\n",
    "        no_improv += 1\n",
    "\n",
    "print(\"Resolved in \", (step+1)*n_evaluation)\n",
    "\n"
   ]
  }
 ],
 "metadata": {
  "kernelspec": {
   "display_name": "first",
   "language": "python",
   "name": "python3"
  },
  "language_info": {
   "codemirror_mode": {
    "name": "ipython",
    "version": 3
   },
   "file_extension": ".py",
   "mimetype": "text/x-python",
   "name": "python",
   "nbconvert_exporter": "python",
   "pygments_lexer": "ipython3",
   "version": "3.12.0"
  }
 },
 "nbformat": 4,
 "nbformat_minor": 2
}
