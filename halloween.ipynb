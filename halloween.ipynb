{
 "cells": [
  {
   "cell_type": "code",
   "execution_count": 249,
   "metadata": {},
   "outputs": [],
   "source": [
    "from itertools import product\n",
    "from random import random, randint, shuffle, seed\n",
    "import numpy as np\n",
    "from scipy import sparse\n",
    "from random import random, choice, randint\n",
    "from functools import reduce\n",
    "from collections import namedtuple\n",
    "from queue import PriorityQueue, SimpleQueue, LifoQueue\n",
    "from copy import copy\n",
    "from math import ceil \n",
    "\n",
    "def make_set_covering_problem(num_points, num_sets, density):\n",
    "    \"\"\"Returns a sparse array where rows are sets and columns are the covered items\"\"\"\n",
    "    seed(num_points*2654435761+num_sets+density)\n",
    "    sets = sparse.lil_array((num_sets, num_points), dtype=bool)\n",
    "    for s, p in product(range(num_sets), range(num_points)):\n",
    "        if random() < density:\n",
    "            sets[s, p] = True\n",
    "    for p in range(num_points):\n",
    "        sets[randint(0, num_sets-1), p] = True\n",
    "    return sets\n"
   ]
  },
  {
   "cell_type": "code",
   "execution_count": 250,
   "metadata": {},
   "outputs": [],
   "source": [
    "NUM_SETS = 100\n",
    "NUM_POINTS = 100\n",
    "DENSITY = .3\n",
    "\n",
    "#SETS = make_set_covering_problem(NUM_SETS, NUM_POINTS, DENSITY)\n",
    "SETS = tuple(np.array([1 if random() < DENSITY else 0 for _ in range(NUM_POINTS)]) for _ in range(NUM_SETS)) #Initialize the set"
   ]
  },
  {
   "cell_type": "code",
   "execution_count": 251,
   "metadata": {},
   "outputs": [],
   "source": [
    "survived = [ 0 for _ in range(NUM_SETS)]\n",
    "dead = [ 0 for _ in range(NUM_SETS)]"
   ]
  },
  {
   "cell_type": "code",
   "execution_count": 252,
   "metadata": {},
   "outputs": [],
   "source": [
    "def fitness(state):\n",
    "    cost = sum(state)\n",
    "    valid = np.sum(\n",
    "        reduce(\n",
    "            np.logical_or,\n",
    "            [SETS[i] for i, t in enumerate(state) if t],\n",
    "            np.array([False for _ in range(NUM_POINTS)]),\n",
    "        )\n",
    "    )\n",
    "    return valid, -cost\n",
    "\n",
    "def avg_sovr(state):\n",
    "    return sum(\n",
    "        reduce(\n",
    "            lambda x,y :  x+y,\n",
    "            [SETS[i] for i, t in enumerate(state) if t],\n",
    "            np.array([False for _ in range(NUM_POINTS)]),\n",
    "        )\n",
    "    )/NUM_POINTS\n",
    "\n",
    "def find_index(state):\n",
    "    not_found = True\n",
    "    while(not_found):\n",
    "        index = randint(0, NUM_POINTS - 1)\n",
    "        if(state[index]): #SWAP OUT\n",
    "            if(survived[index] == 0):\n",
    "                not_found = False\n",
    "            else:\n",
    "                not_found = random() >= 1/survived[index]\n",
    "        else: #SWAP IN\n",
    "            if(dead[index] == 0):\n",
    "                not_found = False\n",
    "            else:\n",
    "                not_found = random() >= 1/dead[index]\n",
    "    return index\n",
    "\n",
    "\n",
    "def tweak(state):\n",
    "    tmp_state = copy(state)\n",
    "    for _ in range(1):\n",
    "        #for _ in range(ceil(avg_sovr(state))):\n",
    "        index = find_index(tmp_state)\n",
    "        tmp_state[index] = not tmp_state[index]\n",
    "    return tmp_state, index"
   ]
  },
  {
   "cell_type": "code",
   "execution_count": 253,
   "metadata": {},
   "outputs": [],
   "source": [
    "original_state = [choice([False, False, False, False, False, False, False, False, False, True]) for _ in range(NUM_SETS)]"
   ]
  },
  {
   "cell_type": "code",
   "execution_count": 254,
   "metadata": {},
   "outputs": [
    {
     "name": "stdout",
     "output_type": "stream",
     "text": [
      "(99, -13)\n",
      "(100, -14)\n",
      "(100, -13)\n",
      "(100, -12)\n",
      "(100, -11)\n",
      "(100, -10)\n",
      "(100, -9)\n"
     ]
    }
   ],
   "source": [
    "current_state = copy(original_state)\n",
    "\n",
    "for step in range(1000):\n",
    "    new_state, index = tweak(current_state)\n",
    "    if fitness(new_state) >= fitness(current_state):\n",
    "        current_state = new_state\n",
    "        print(fitness(current_state))\n",
    "    else:\n",
    "        if(current_state[index]):\n",
    "            survived[index] += 1\n",
    "        else:\n",
    "            dead[index] += 1"
   ]
  },
  {
   "cell_type": "code",
   "execution_count": 255,
   "metadata": {},
   "outputs": [],
   "source": [
    "def fitness(state):\n",
    "    cost = sum(state)\n",
    "    valid = np.sum(\n",
    "        reduce(\n",
    "            np.logical_or,\n",
    "            [SETS[i] for i, t in enumerate(state) if t],\n",
    "            np.array([False for _ in range(NUM_POINTS)]),\n",
    "        )\n",
    "    )\n",
    "    return valid, -cost\n",
    "\n",
    "def tweak(state):\n",
    "    new_state = copy(state)\n",
    "    index = randint(0, NUM_POINTS - 1)\n",
    "    new_state[index] = not new_state[index]\n",
    "    return new_state"
   ]
  },
  {
   "cell_type": "code",
   "execution_count": 256,
   "metadata": {},
   "outputs": [
    {
     "name": "stdout",
     "output_type": "stream",
     "text": [
      "(99, -13)\n",
      "(99, -12)\n",
      "(99, -11)\n",
      "(100, -12)\n",
      "(100, -11)\n",
      "(100, -10)\n",
      "(100, -9)\n",
      "(100, -8)\n"
     ]
    }
   ],
   "source": [
    "current_state_2 = copy(original_state)\n",
    "\n",
    "for step in range(1000):\n",
    "    new_state = tweak(current_state_2)\n",
    "    if fitness(new_state) >= fitness(current_state_2):\n",
    "        current_state_2 = new_state\n",
    "        print(fitness(current_state_2))"
   ]
  },
  {
   "cell_type": "markdown",
   "metadata": {},
   "source": [
    "## Se un set viene eliminato dalla soluzione e non c'è nessun miglioramento dev'essere meno probabile sceglierlo la volta successiva per swap out\n",
    "## Se un set viene portato in soluzione e non apporta nessun miglioramento dev'essere meno probabile sceglierlo la volta successiva per swap in"
   ]
  },
  {
   "cell_type": "code",
   "execution_count": 257,
   "metadata": {},
   "outputs": [
    {
     "name": "stdout",
     "output_type": "stream",
     "text": [
      "[False, False, False, False, False, False, False, False, False, False, False, False, False, False, False, False, False, False, False, False, False, False, False, False, False, False, False, False, False, False, False, False, False, False, False, False, False, False, False, False, False, False, False, False, False, False, False, True, False, False, False, False, False, False, False, False, False, False, False, False, True, False, True, False, False, False, False, False, True, False, False, True, False, False, False, False, True, False, False, False, True, False, False, False, False, False, False, False, False, True, False, False, True, False, False, False, False, False, False, False]\n",
      "278\n"
     ]
    }
   ],
   "source": [
    "x = reduce( lambda x,y : x+y, [SETS[i] for i, t in enumerate(current_state) if t],\n",
    "            np.array([0 for _ in range(NUM_POINTS)]))\n",
    "print(current_state)\n",
    "print(sum(x))"
   ]
  }
 ],
 "metadata": {
  "kernelspec": {
   "display_name": "first",
   "language": "python",
   "name": "python3"
  },
  "language_info": {
   "codemirror_mode": {
    "name": "ipython",
    "version": 3
   },
   "file_extension": ".py",
   "mimetype": "text/x-python",
   "name": "python",
   "nbconvert_exporter": "python",
   "pygments_lexer": "ipython3",
   "version": "3.12.0"
  }
 },
 "nbformat": 4,
 "nbformat_minor": 2
}
