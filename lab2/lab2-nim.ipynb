{
 "cells": [
  {
   "cell_type": "markdown",
   "metadata": {
    "pycharm": {
     "name": "#%% md\n"
    }
   },
   "source": [
    "Copyright **`(c)`** 2022 Giovanni Squillero `<squillero@polito.it>`  \n",
    "[`https://github.com/squillero/computational-intelligence`](https://github.com/squillero/computational-intelligence)  \n",
    "Free for personal or classroom use; see [`LICENSE.md`](https://github.com/squillero/computational-intelligence/blob/master/LICENSE.md) for details.  \n"
   ]
  },
  {
   "cell_type": "markdown",
   "metadata": {
    "pycharm": {
     "name": "#%%\n"
    }
   },
   "source": [
    "# Lab 3: ES\n",
    "\n",
    "## Task\n",
    "\n",
    "Write agents able to play [*Nim*](https://en.wikipedia.org/wiki/Nim), with an arbitrary number of rows and an upper bound $k$ on the number of objects that can be removed in a turn (a.k.a., *subtraction game*).\n",
    "\n",
    "The goal of the game is to **avoid** taking the last object.\n",
    "\n",
    "* Task2.1: An agent using fixed rules based on *nim-sum* (i.e., an *expert system*)\n",
    "* Task2.2: An agent using evolved rules using ES\n",
    "\n",
    "## Instructions\n",
    "\n",
    "* Create the directory `lab2` inside your personal course repository for the course \n",
    "* Put a `README.md` and your solution (all the files, code and auxiliary data if needed)\n",
    "\n",
    "## Notes\n",
    "\n",
    "* Working in group is not only allowed, but recommended (see: [Ubuntu](https://en.wikipedia.org/wiki/Ubuntu_philosophy) and [Cooperative Learning](https://files.eric.ed.gov/fulltext/EJ1096789.pdf)). Collaborations must be explicitly declared in the `README.md`.\n",
    "* [Yanking](https://www.emacswiki.org/emacs/KillingAndYanking) from the internet is allowed, but sources must be explicitly declared in the `README.md`.\n",
    "\n"
   ]
  },
  {
   "cell_type": "code",
   "execution_count": 258,
   "metadata": {},
   "outputs": [],
   "source": [
    "import logging\n",
    "from pprint import pprint, pformat\n",
    "from collections import namedtuple\n",
    "import random\n",
    "from copy import deepcopy, copy\n",
    "from math import ceil\n"
   ]
  },
  {
   "cell_type": "markdown",
   "metadata": {},
   "source": [
    "## The *Nim* and *Nimply* classes"
   ]
  },
  {
   "cell_type": "code",
   "execution_count": 259,
   "metadata": {},
   "outputs": [],
   "source": [
    "Nimply = namedtuple(\"Nimply\", \"row, num_objects\")\n"
   ]
  },
  {
   "cell_type": "code",
   "execution_count": 260,
   "metadata": {},
   "outputs": [],
   "source": [
    "class Nim:\n",
    "    def __init__(self, num_rows: int, k: int = None) -> None:\n",
    "        self._rows = [i * 2 + 1 for i in range(num_rows)]\n",
    "        self._k = k\n",
    "\n",
    "    def __bool__(self):\n",
    "        return sum(self._rows) > 0\n",
    "\n",
    "    def __str__(self):\n",
    "        return \"<\" + \" \".join(str(_) for _ in self._rows) + \">\"\n",
    "\n",
    "    @property\n",
    "    def rows(self) -> tuple:\n",
    "        return tuple(self._rows)\n",
    "\n",
    "    def nimming(self, ply: Nimply) -> None:\n",
    "        row, num_objects = ply\n",
    "        assert self._rows[row] >= num_objects\n",
    "        assert self._k is None or num_objects <= self._k\n",
    "        self._rows[row] -= num_objects\n"
   ]
  },
  {
   "cell_type": "markdown",
   "metadata": {},
   "source": [
    "## Sample (and silly) startegies "
   ]
  },
  {
   "cell_type": "code",
   "execution_count": 261,
   "metadata": {},
   "outputs": [],
   "source": [
    "def pure_random(state: Nim) -> Nimply:\n",
    "    \"\"\"A completely random move\"\"\"\n",
    "    row = random.choice([r for r, c in enumerate(state.rows) if c > 0])\n",
    "    num_objects = random.randint(1, state.rows[row])\n",
    "    return Nimply(row, num_objects)\n"
   ]
  },
  {
   "cell_type": "code",
   "execution_count": 262,
   "metadata": {},
   "outputs": [],
   "source": [
    "def gabriele(state: Nim) -> Nimply:\n",
    "    \"\"\"Pick always the maximum possible number of the lowest row\"\"\"\n",
    "    possible_moves = [(r, o) for r, c in enumerate(state.rows) for o in range(1, c + 1)]\n",
    "    return Nimply(*max(possible_moves, key=lambda m: (-m[0], m[1])))\n"
   ]
  },
  {
   "cell_type": "code",
   "execution_count": 263,
   "metadata": {},
   "outputs": [],
   "source": [
    "def first_try(state: Nim) -> Nimply:\n",
    "    \"\"\"Pick always the first tile of the highest row\"\"\"\n",
    "    move = Nimply(max([i for i,r in enumerate(state.rows) if r > 0]), 1)\n",
    "    return move"
   ]
  },
  {
   "cell_type": "code",
   "execution_count": 264,
   "metadata": {},
   "outputs": [],
   "source": [
    "def adaptive(state: Nim) -> Nimply:\n",
    "    \"\"\"A strategy that can adapt its parameters\"\"\"\n",
    "    genome = {\"love_small\": 0.5}\n"
   ]
  },
  {
   "cell_type": "code",
   "execution_count": 265,
   "metadata": {},
   "outputs": [],
   "source": [
    "import numpy as np\n",
    "\n",
    "\n",
    "def nim_sum(state: Nim) -> int:\n",
    "    tmp = np.array([tuple(int(x) for x in f\"{c:032b}\") for c in state.rows])\n",
    "    xor = tmp.sum(axis=0) % 2\n",
    "    return int(\"\".join(str(_) for _ in xor), base=2)\n",
    "\n",
    "\n",
    "def analize(raw: Nim) -> dict:\n",
    "    cooked = dict()\n",
    "    cooked[\"possible_moves\"] = dict()\n",
    "    for ply in (Nimply(r, o) for r, c in enumerate(raw.rows) for o in range(1, c + 1)):\n",
    "        tmp = deepcopy(raw)\n",
    "        tmp.nimming(ply)\n",
    "        cooked[\"possible_moves\"][ply] = nim_sum(tmp)\n",
    "    return cooked\n",
    "\n",
    "\n",
    "def optimal(state: Nim) -> Nimply:\n",
    "    analysis = analize(state)\n",
    "    logging.debug(f\"analysis:\\n{pformat(analysis)}\")\n",
    "    spicy_moves = [ply for ply, ns in analysis[\"possible_moves\"].items() if ns != 0]\n",
    "    if not spicy_moves:\n",
    "        spicy_moves = list(analysis[\"possible_moves\"].keys())\n",
    "    ply = random.choice(spicy_moves)\n",
    "    return ply\n"
   ]
  },
  {
   "cell_type": "code",
   "execution_count": null,
   "metadata": {},
   "outputs": [],
   "source": [
    "NUM_MATCH = 500\n",
    "NUM_GEN = 10\n",
    "NUM_IND = 50"
   ]
  },
  {
   "cell_type": "code",
   "execution_count": null,
   "metadata": {},
   "outputs": [],
   "source": [
    "class Nimmer:\n",
    "    def __init__(self, n: float, p: float) -> None:\n",
    "        self.n = n\n",
    "        self.p = p\n",
    "        self.win_rate = 0\n",
    "\n",
    "    def __lt__(self, other):\n",
    "        return self.win_rate < other.win_rate\n",
    "    \n",
    "    def __str__(self):\n",
    "        return \"{\" + str(self.n) + \",\" + str(self.p) + \"}\" + \" \" + \"WIN:\" + str(self.win_rate*100)\n",
    "\n",
    "    def valute(self, wr):\n",
    "        self.win_rate = wr"
   ]
  },
  {
   "cell_type": "code",
   "execution_count": null,
   "metadata": {},
   "outputs": [],
   "source": [
    "def es_strategy(state: Nim, ind: Nimmer) -> Nimply:\n",
    "    if random.random() <= ind.p :\n",
    "        possible_rows = [(r,i) for i,r in enumerate(state.rows) if r > 0]\n",
    "        possible_rows.sort(reverse=True)\n",
    "        _ , row = possible_rows.pop(0)\n",
    "        #print(\"Pazzo prende max\")\n",
    "    else:\n",
    "        row = random.choice([i for i, r in enumerate(state.rows) if r > 0])\n",
    "        #print(\"Pazzo prende random\")\n",
    "    num_objects = ceil(state.rows[row] * ind.n)\n",
    "    return Nimply(row,num_objects)\n",
    "\n",
    "\n",
    "    \n",
    "    "
   ]
  },
  {
   "cell_type": "code",
   "execution_count": null,
   "metadata": {},
   "outputs": [],
   "source": [
    "def play_matches(ind):\n",
    "    print(f\"TESTING INDIVIDUAL {ind}\")\n",
    "    strategy = (es_strategy, optimal)\n",
    "    won = [0,0]\n",
    "    for match in range(NUM_MATCH):\n",
    "        nim = Nim(5)\n",
    "        player = 0\n",
    "        #print(f\"Si presenta Pazzo: {ind}\")\n",
    "        while nim:\n",
    "            if player:\n",
    "                #print(f\"Random si ritrova con: {nim}\")\n",
    "                ply = strategy[player](nim)\n",
    "                #print(f\"Random gioca {ply}\")\n",
    "            else:\n",
    "                #print(f\"Situazione prima di pazzo: {nim}\")\n",
    "                ply = strategy[player](nim,ind)\n",
    "                #print(f\"Pazzo gioca {ply}\")\n",
    "            nim.nimming(ply)\n",
    "            player = 1 - player\n",
    "        won[player] += 1\n",
    "    print(f\"Result: {won[0]/NUM_MATCH*100}%\")\n",
    "    return won[0]/NUM_MATCH"
   ]
  },
  {
   "cell_type": "code",
   "execution_count": null,
   "metadata": {},
   "outputs": [],
   "source": [
    "initial_n = 0.5 # How many pieces to take (0 => None 1 => All)\n",
    "initial_p = 0.5 # Chance to take from row w most pieces, otherwise random\n",
    "\n",
    "best = Nimmer(initial_n,initial_p)\n",
    "for gen in range(NUM_GEN):\n",
    "    new_n = np.random.normal(loc=0,scale=0.1,size=NUM_IND)+best.n\n",
    "    new_p = np.random.normal(loc=0,scale=0.1,size=NUM_IND)+best.p\n",
    "    individuals = [Nimmer(n,p) for n,p in zip(new_n,new_p)]\n",
    "    for ind in individuals:\n",
    "        ind.valute(play_matches(ind))\n",
    "    individuals.append(best)\n",
    "    best = copy(max(individuals, key=lambda i: i.win_rate))\n",
    "    print(f\"Best @ gen. {gen}: {best}\")"
   ]
  },
  {
   "cell_type": "code",
   "execution_count": null,
   "metadata": {},
   "outputs": [],
   "source": [
    "VALIDATION_MATCH = 10_000"
   ]
  },
  {
   "cell_type": "code",
   "execution_count": null,
   "metadata": {},
   "outputs": [],
   "source": [
    "hero = copy(best)\n",
    "print(f\"HERO: {hero}\")\n",
    "\n",
    "strategy = (es_strategy, optimal)\n",
    "won = [0,0]\n",
    "for match in range(VALIDATION_MATCH):\n",
    "    nim = Nim(5)\n",
    "    player = 0\n",
    "    #print(f\"Si presenta Pazzo: {ind}\")\n",
    "    while nim:\n",
    "        if player:\n",
    "            #print(f\"Random si ritrova con: {nim}\")\n",
    "            ply = strategy[player](nim)\n",
    "            #print(f\"Random gioca {ply}\")\n",
    "        else:\n",
    "            #print(f\"Situazione prima di pazzo: {nim}\")\n",
    "            ply = strategy[player](nim,hero)\n",
    "            #print(f\"Pazzo gioca {ply}\")\n",
    "        nim.nimming(ply)\n",
    "        player = 1 - player\n",
    "    won[player] += 1\n",
    "print(f\"TOTAL: {won[0]/VALIDATION_MATCH}\")"
   ]
  }
 ],
 "metadata": {
  "kernelspec": {
   "display_name": "Python 3.10.7 ('ci22-dPIXJ0_o-py3.10')",
   "language": "python",
   "name": "python3"
  },
  "language_info": {
   "codemirror_mode": {
    "name": "ipython",
    "version": 3
   },
   "file_extension": ".py",
   "mimetype": "text/x-python",
   "name": "python",
   "nbconvert_exporter": "python",
   "pygments_lexer": "ipython3",
   "version": "3.12.0"
  },
  "vscode": {
   "interpreter": {
    "hash": "10197e8e2f2aa67e2c349105091c77f4cd384fce4877865f002d9ec653f96bc0"
   }
  }
 },
 "nbformat": 4,
 "nbformat_minor": 2
}
