{
 "cells": [
  {
   "cell_type": "markdown",
   "metadata": {},
   "source": [
    "#### Disclaimer: all of the code below was written and tested from me (Salvatore Latino), and Andrea Panuccio, a collegue"
   ]
  },
  {
   "cell_type": "code",
   "execution_count": null,
   "metadata": {},
   "outputs": [],
   "source": [
    "from random import random\n",
    "from functools import reduce\n",
    "from collections import namedtuple, deque\n",
    "from queue import PriorityQueue, SimpleQueue, LifoQueue\n",
    "from math import ceil\n",
    "\n",
    "import numpy as np"
   ]
  },
  {
   "cell_type": "code",
   "execution_count": null,
   "metadata": {},
   "outputs": [],
   "source": [
    "PROBLEM_SIZE = 15\n",
    "NUM_SETS = 75\n",
    "SETS = tuple(np.array([random() < .2 for _ in range(PROBLEM_SIZE)]) for _ in range(NUM_SETS)) #Initialize the set\n",
    "State = namedtuple('State', ['taken', 'not_taken'])"
   ]
  },
  {
   "cell_type": "code",
   "execution_count": null,
   "metadata": {},
   "outputs": [],
   "source": [
    "def goal_check(state, source):\n",
    "    return np.all(reduce(np.logical_or, [source[i] for i in state.taken], np.array([False for _ in range(PROBLEM_SIZE)]))) #Function to check if we found a solution"
   ]
  },
  {
   "cell_type": "code",
   "execution_count": null,
   "metadata": {},
   "outputs": [],
   "source": [
    "assert goal_check(State(set(range(NUM_SETS)), set()), SETS), \"Probelm not solvable\" #We are sure the problem is solvable"
   ]
  },
  {
   "cell_type": "code",
   "execution_count": null,
   "metadata": {},
   "outputs": [],
   "source": [
    "def covered(state, source):\n",
    "    return reduce(np.logical_or,[source[i] for i in state.taken],np.array([False for _ in range(PROBLEM_SIZE)]),) #Tiles we have covered\n",
    "\n",
    "def distance(state,source):\n",
    "    return PROBLEM_SIZE - sum(\n",
    "        reduce(np.logical_or,[source[i] for i in state.taken],np.array([False for _ in range(PROBLEM_SIZE)]))) #How many tiles to cover yet"
   ]
  },
  {
   "cell_type": "markdown",
   "metadata": {},
   "source": [
    "### In previous solution me and Andrea tried to remove all the duplicates in SETS by adding them to a set, in order to speed up the algorithms.\n",
    "### To do that we made a custom hashable class (My Tile) "
   ]
  },
  {
   "cell_type": "code",
   "execution_count": null,
   "metadata": {},
   "outputs": [],
   "source": [
    "def compute_hash(tile):\n",
    "    n = 0\n",
    "    for i in range(PROBLEM_SIZE):\n",
    "        n = 2 * n + tile[i]\n",
    "    return int(n)"
   ]
  },
  {
   "cell_type": "code",
   "execution_count": null,
   "metadata": {},
   "outputs": [],
   "source": [
    "class MyTile:\n",
    "    def __init__(self, data):\n",
    "        self.data = data\n",
    "\n",
    "    def __eq__(self, other):\n",
    "        if isinstance(other, MyTile):\n",
    "            return (self.data == other.data).all()\n",
    "        return False\n",
    "    \n",
    "    def __ne__(self, other):\n",
    "        if isinstance(other, MyTile):\n",
    "            return (self.data != other.data).all()\n",
    "        return True\n",
    "    \n",
    "    def __hash__(self):\n",
    "        return compute_hash(self.data)"
   ]
  },
  {
   "cell_type": "code",
   "execution_count": null,
   "metadata": {},
   "outputs": [],
   "source": [
    "#tiles_set = set((map(lambda t : MyTile(t), SETS)))"
   ]
  },
  {
   "cell_type": "markdown",
   "metadata": {},
   "source": [
    "### Then we realized we could obtain the same result (discard the duplicates) just by this line of code"
   ]
  },
  {
   "cell_type": "code",
   "execution_count": null,
   "metadata": {},
   "outputs": [],
   "source": [
    "tiles_no_duplicates = list(set(map( lambda x: tuple(x) , SETS))) #DISCARD DUPLICATES IN SETS "
   ]
  },
  {
   "cell_type": "markdown",
   "metadata": {},
   "source": [
    "### As another optimization we thought about special set. A special set for us is a set that covers a tile that isn't covered by any other set and therefore must be present in solution. Of course this would really effective when the prob for a set to cover a specific tile is very low."
   ]
  },
  {
   "cell_type": "code",
   "execution_count": null,
   "metadata": {},
   "outputs": [],
   "source": [
    "initial_taken = set()\n",
    "initial_not_taken = set(range(len(tiles_no_duplicates)))\n",
    "\n",
    "for i in range(PROBLEM_SIZE):\n",
    "    counter = 0\n",
    "    pos = -1\n",
    "    for j in range(len(tiles_no_duplicates)):\n",
    "        if tiles_no_duplicates[j][i]:\n",
    "            counter += 1\n",
    "            if counter > 1:\n",
    "                break\n",
    "            pos = j\n",
    "    if counter == 1:\n",
    "        initial_taken.add(pos)\n",
    "        initial_not_taken.remove(pos)"
   ]
  },
  {
   "cell_type": "markdown",
   "metadata": {},
   "source": [
    "## Breadth first W/o optimization"
   ]
  },
  {
   "cell_type": "code",
   "execution_count": null,
   "metadata": {},
   "outputs": [],
   "source": [
    "\"\"\"\n",
    "frontier = SimpleQueue()\n",
    "frontier.put(State(set(), set(range(NUM_SETS)))) #I take every available set\n",
    "\n",
    "counter = 0\n",
    "current_state = frontier.get()\n",
    "while not np.all(reduce(np.logical_or, [SETS[i] for i in current_state.taken], np.array ([False for _ in range(PROBLEM_SIZE)]))):\n",
    "    counter += 1\n",
    "    for action in current_state[1]:\n",
    "        new_state = State(current_state.taken ^ {action}, current_state.not_taken ^ {action})\n",
    "        frontier.put(new_state)\n",
    "    current_state = frontier.get()\n",
    "\n",
    "print(f\"Solved in {counter:,} steps\")\n",
    "\n",
    "cnt_bf_no_opt = counter\n",
    "sol_bf_no_opt = current_state.taken\n",
    "\"\"\""
   ]
  },
  {
   "cell_type": "markdown",
   "metadata": {},
   "source": [
    "## Breadth first W/ optimization"
   ]
  },
  {
   "cell_type": "code",
   "execution_count": null,
   "metadata": {},
   "outputs": [],
   "source": [
    "\"\"\"\n",
    "frontier = SimpleQueue()\n",
    "frontier.put(State(initial_taken, initial_not_taken)) #Discard duplicates\n",
    "\n",
    "counter = 0\n",
    "current_state = frontier.get()\n",
    "while not np.all(reduce(np.logical_or, [tiles_no_duplicates[i] for i in current_state.taken], np.array([False for _ in range(PROBLEM_SIZE)]))):\n",
    "    counter += 1\n",
    "    for action in current_state[1]:\n",
    "        new_state = State(current_state.taken ^ {action}, current_state.not_taken ^ {action})\n",
    "        frontier.put(new_state)\n",
    "    current_state = frontier.get()\n",
    "\n",
    "print(f\"Solved in {counter:,} steps\")\n",
    "\n",
    "cnt_bf_opt = counter\n",
    "sol_bf_opt = current_state.taken\n",
    "\"\"\""
   ]
  },
  {
   "cell_type": "markdown",
   "metadata": {},
   "source": [
    "## Greedy\n",
    "\n",
    "### As a greedy problem it's not optimal, however in some cases we saw that it's capable of give an optimal solution in less step and time than A*  "
   ]
  },
  {
   "cell_type": "code",
   "execution_count": null,
   "metadata": {},
   "outputs": [],
   "source": [
    "frontier = PriorityQueue()\n",
    "frontier.put(State(set(), set(range(NUM_SETS))))\n",
    "\n",
    "counter = 0\n",
    "current_state = frontier.get()\n",
    "while not np.all(reduce(np.logical_or, [SETS[i] for i in current_state.taken], np.array([False for _ in range(PROBLEM_SIZE)]))):\n",
    "    counter += 1\n",
    "    for action in current_state[1]:\n",
    "        new_state = State(current_state.taken ^ {action}, current_state.not_taken ^ {action})\n",
    "        frontier.put(((len(new_state.taken)**2)*distance(new_state,SETS),new_state)) #Starting from a wrong heuristic for A* we found this function for our greedy algorithm\n",
    "    current_state = frontier.get()[1]\n",
    "\n",
    "print(f\"Solved in {counter:,} steps\")\n",
    "\n",
    "cnt_gr_no_opt = counter\n",
    "sol_gr_no_opt = current_state.taken"
   ]
  },
  {
   "cell_type": "markdown",
   "metadata": {},
   "source": [
    "## A* "
   ]
  },
  {
   "cell_type": "code",
   "execution_count": null,
   "metadata": {},
   "outputs": [],
   "source": [
    "def sol_or_not(state):\n",
    "    if np.all(reduce(np.logical_or, [tiles_no_duplicates[i] for i in state.taken], np.array([False for _ in range(PROBLEM_SIZE)]))):\n",
    "        return 0\n",
    "    return 1"
   ]
  },
  {
   "cell_type": "markdown",
   "metadata": {},
   "source": [
    "## A* W/ optimization"
   ]
  },
  {
   "cell_type": "code",
   "execution_count": null,
   "metadata": {},
   "outputs": [],
   "source": [
    "initial_taken = set()\n",
    "initial_not_taken = set(range(len(tiles_no_duplicates)))\n",
    "\n",
    "frontier = PriorityQueue()\n",
    "frontier.put(State(initial_taken, initial_not_taken))\n",
    "\n",
    "counter = 0\n",
    "current_state = frontier.get()\n",
    "while not np.all(reduce(np.logical_or, [tiles_no_duplicates[i] for i in current_state.taken], np.array([False for _ in range(PROBLEM_SIZE)]))):\n",
    "    counter += 1\n",
    "    for action in current_state[1]:\n",
    "        new_state = State(current_state.taken ^ {action}, current_state.not_taken ^ {action})\n",
    "        #frontier.put((len(current_state.taken)+distance(current_state,tiles_no_duplicates),new_state)) Me and Andrea incorrectly used a pessimistic heuristic at first, based on how many sets we have in solution and how many tiles were missing\n",
    "        frontier.put((len(new_state.taken)+sol_or_not(new_state),new_state)) # Then we used a very simple optimistic heuristic\n",
    "    current_state = frontier.get()[1]\n",
    "\n",
    "print(f\"Solved in {counter:,} steps\")\n",
    "\n",
    "cnt_as_opt = counter\n",
    "sol_as_opt = current_state.taken"
   ]
  },
  {
   "cell_type": "markdown",
   "metadata": {},
   "source": [
    "## A* with mem of already explored solution\n",
    "\n",
    "### The order of the sets is not important in this problem. In addition to that, if two selection of sets lead to the same tiles covered is not useful exploring both"
   ]
  },
  {
   "cell_type": "code",
   "execution_count": null,
   "metadata": {},
   "outputs": [],
   "source": [
    "initial_taken = set()\n",
    "initial_not_taken = set(range(len(tiles_no_duplicates)))\n",
    "\n",
    "frontier = PriorityQueue()\n",
    "frontier.put(State(initial_taken, initial_not_taken))\n",
    "\n",
    "explored = set()\n",
    "\n",
    "counter = 0\n",
    "current_state = frontier.get()\n",
    "while not np.all(reduce(np.logical_or, [tiles_no_duplicates[i] for i in current_state.taken], np.array([False for _ in range(PROBLEM_SIZE)]))):\n",
    "    counter += 1\n",
    "    for action in current_state[1]:\n",
    "        new_state = State(current_state.taken ^ {action}, current_state.not_taken ^ {action})\n",
    "        old_len = len(explored)\n",
    "        x = covered(new_state, tiles_no_duplicates).tolist()\n",
    "        x.append(len(new_state.taken)) #We must ensure that a selection of set that covers the same tiles as a previous one but in less number of tiles will be expanded\n",
    "        explored.add(tuple(x))\n",
    "        new_len = len(explored)\n",
    "        if (new_len > old_len):\n",
    "            frontier.put((len(new_state.taken)+sol_or_not(new_state),new_state))\n",
    "    current_state = frontier.get()[1]\n",
    "\n",
    "print(f\"Solved in {counter:,} steps\")\n",
    "\n",
    "cnt_as_opt_exp = counter\n",
    "sol_as_opt_exp = current_state.taken"
   ]
  },
  {
   "cell_type": "markdown",
   "metadata": {},
   "source": [
    "## A* W/ optimization+\n",
    "\n",
    "### Here we take the heuristic given from the professor and make just a little adjustment taking the candidates only from the tiles not in solution. We saw that even if it solves the problem in less step than the other version we developed most of the times it's slower than the other in seconds"
   ]
  },
  {
   "cell_type": "code",
   "execution_count": null,
   "metadata": {},
   "outputs": [],
   "source": [
    "def exp_cost(state):\n",
    "    already_covered = covered(state, tiles_no_duplicates)\n",
    "    if np.all(already_covered):\n",
    "        return 0\n",
    "    missing_size = PROBLEM_SIZE - sum(already_covered)\n",
    "    candidates = sorted((sum(np.logical_and(tiles_no_duplicates[s], np.logical_not(already_covered))) for s in state.not_taken), reverse=True)\n",
    "    taken = 1\n",
    "    while sum(candidates[:taken]) < missing_size:\n",
    "        taken += 1\n",
    "    return taken"
   ]
  },
  {
   "cell_type": "code",
   "execution_count": null,
   "metadata": {},
   "outputs": [],
   "source": [
    "frontier = PriorityQueue()\n",
    "state = State(set(), set(range(len(tiles_no_duplicates))))\n",
    "frontier.put((len(state.taken) + exp_cost(state), state))\n",
    "\n",
    "counter = 0\n",
    "_, current_state = frontier.get()\n",
    "while not np.all(reduce(np.logical_or, [tiles_no_duplicates[i] for i in current_state.taken], np.array([False for _ in range(PROBLEM_SIZE)]))):\n",
    "    counter += 1\n",
    "    for action in current_state[1]:\n",
    "        new_state = State(current_state.taken ^ {action},current_state.not_taken ^ {action},)\n",
    "        frontier.put((len(new_state.taken) + exp_cost(new_state), new_state))\n",
    "    _, current_state = frontier.get()\n",
    "\n",
    "cnt_as_opt_plus = counter\n",
    "sol_as_opt_plus = current_state.taken"
   ]
  },
  {
   "cell_type": "markdown",
   "metadata": {},
   "source": [
    "## RESULTS"
   ]
  },
  {
   "cell_type": "code",
   "execution_count": null,
   "metadata": {},
   "outputs": [],
   "source": [
    "print(f\"{len(SETS)-len(tiles_no_duplicates)} duplicates sets were discarded\")\n",
    "print(f\"{len(initial_taken)} sets were added to the solution\")\n",
    "print()\n",
    "\n",
    "#print(f\"Breadth First W/o optimization:  Sol: {sol_bf_no_opt}   Solved in {cnt_bf_no_opt} steps.   \")\n",
    "#print(f\"Breadth First W/ optimization:   Sol: {sol_bf_opt}   Solved in {cnt_bf_opt}  steps. \")\n",
    "#print(f\"A* W/o optimization:             Sol: {sol_as_no_opt}   Solved in {cnt_as_no_opt} steps.   \")\n",
    "print(f\"Greedy W/o optimization:          Sol: {sol_gr_no_opt}   Solved in {cnt_gr_no_opt} steps.  \")\n",
    "print(f\"A* W/ optimization:               Sol: {sol_as_opt}   Solved in {cnt_as_opt} steps.  \")\n",
    "print(f\"A* W/ optimization EXP:           Sol: {sol_as_opt_exp}   Solved in {cnt_as_opt_exp} steps.  \")\n",
    "print(f\"A* W/ optimization+:              Sol: {sol_as_opt_plus}   Solved in {cnt_as_opt_plus} steps.  \")"
   ]
  }
 ],
 "metadata": {
  "kernelspec": {
   "display_name": "first",
   "language": "python",
   "name": "python3"
  },
  "language_info": {
   "codemirror_mode": {
    "name": "ipython",
    "version": 3
   },
   "file_extension": ".py",
   "mimetype": "text/x-python",
   "name": "python",
   "nbconvert_exporter": "python",
   "pygments_lexer": "ipython3",
   "version": "3.12.0"
  }
 },
 "nbformat": 4,
 "nbformat_minor": 2
}
