{
 "cells": [
  {
   "cell_type": "code",
   "execution_count": 1,
   "metadata": {},
   "outputs": [],
   "source": [
    "from random import random\n",
    "from functools import reduce\n",
    "from collections import namedtuple\n",
    "from queue import PriorityQueue, SimpleQueue, LifoQueue\n",
    "\n",
    "import numpy as np"
   ]
  },
  {
   "cell_type": "code",
   "execution_count": 2,
   "metadata": {},
   "outputs": [],
   "source": [
    "PROBLEM_SIZE = 5\n",
    "NUM_SETS = 20\n",
    "SETS = tuple(np.array([random() < .2 for _ in range(PROBLEM_SIZE)]) for _ in range(NUM_SETS))\n",
    "State = namedtuple('State', ['taken', 'not_taken'])"
   ]
  },
  {
   "cell_type": "code",
   "execution_count": 3,
   "metadata": {},
   "outputs": [
    {
     "data": {
      "text/plain": [
       "numpy.ndarray"
      ]
     },
     "execution_count": 3,
     "metadata": {},
     "output_type": "execute_result"
    }
   ],
   "source": [
    "type(SETS[0])"
   ]
  },
  {
   "cell_type": "code",
   "execution_count": 4,
   "metadata": {},
   "outputs": [],
   "source": [
    "def goal_check(state):\n",
    "    return np.all(reduce(np.logical_or, [SETS[i] for i in state.taken], np.array([False for _ in range(PROBLEM_SIZE)])))"
   ]
  },
  {
   "cell_type": "code",
   "execution_count": 5,
   "metadata": {},
   "outputs": [],
   "source": [
    "assert goal_check(State(set(range(NUM_SETS)), set())), \"Probelm not solvable\""
   ]
  },
  {
   "cell_type": "code",
   "execution_count": 6,
   "metadata": {},
   "outputs": [],
   "source": [
    "def compute_hash(tile):\n",
    "    n = 0\n",
    "    for i in range(PROBLEM_SIZE):\n",
    "        n = 2 * n + tile[i]\n",
    "    return int(n)"
   ]
  },
  {
   "cell_type": "code",
   "execution_count": 7,
   "metadata": {},
   "outputs": [],
   "source": [
    "def distance(state):\n",
    "    return PROBLEM_SIZE - sum(\n",
    "        reduce(\n",
    "            np.logical_or,\n",
    "            [SETS[i] for i in state.taken],\n",
    "            np.array([False for _ in range(PROBLEM_SIZE)]),\n",
    "        ))"
   ]
  },
  {
   "cell_type": "code",
   "execution_count": 8,
   "metadata": {},
   "outputs": [],
   "source": [
    "class MyTile:\n",
    "    def __init__(self, data):\n",
    "        self.data = data\n",
    "\n",
    "    def __eq__(self, other):\n",
    "        if isinstance(other, MyTile):\n",
    "            return (self.data == other.data).all()\n",
    "        return False\n",
    "    \n",
    "    def __ne__(self, other):\n",
    "        if isinstance(other, MyTile):\n",
    "            return (self.data != other.data).all()\n",
    "        return True\n",
    "    \n",
    "    def __hash__(self):\n",
    "        return compute_hash(self.data)"
   ]
  },
  {
   "cell_type": "code",
   "execution_count": 16,
   "metadata": {},
   "outputs": [
    {
     "name": "stdout",
     "output_type": "stream",
     "text": [
      "(array([False, False, False, False, False]), array([False, False, False, False,  True]), array([False, False, False,  True, False]), array([False, False,  True, False, False]), array([False,  True, False, False, False]), array([False,  True, False,  True, False]), array([ True, False, False, False, False]), array([ True, False, False,  True, False]))\n",
      "(array([False,  True, False,  True, False]), array([ True, False, False,  True, False]), array([False, False, False,  True, False]), array([False, False, False, False, False]), array([False, False, False, False,  True]), array([False, False, False, False, False]), array([False, False, False, False, False]), array([False,  True, False, False, False]), array([False, False, False, False, False]), array([ True, False, False, False, False]), array([False, False, False, False, False]), array([False, False, False,  True, False]), array([False, False,  True, False, False]), array([False, False, False, False, False]), array([False,  True, False, False, False]), array([ True, False, False, False, False]), array([False, False, False,  True, False]), array([False,  True, False,  True, False]), array([False,  True, False, False, False]), array([False, False, False,  True, False]))\n"
     ]
    }
   ],
   "source": [
    "tiles_set = set()\n",
    "tiles = list(map(lambda t : MyTile(t), SETS))\n",
    "\n",
    "for tile in tiles:\n",
    "    tiles_set.add(tile)\n",
    "\n",
    "tiles = tuple(map(lambda t : t.data, tiles_set))\n",
    "print(tiles)\n",
    "print(SETS)\n"
   ]
  },
  {
   "cell_type": "code",
   "execution_count": 17,
   "metadata": {},
   "outputs": [],
   "source": [
    "initial_taken = set()\n",
    "initial_not_taken = set(range(len(tiles_set)))"
   ]
  },
  {
   "cell_type": "code",
   "execution_count": 18,
   "metadata": {},
   "outputs": [
    {
     "ename": "AttributeError",
     "evalue": "'set' object has no attribute 'put'",
     "output_type": "error",
     "traceback": [
      "\u001b[1;31m---------------------------------------------------------------------------\u001b[0m",
      "\u001b[1;31mAttributeError\u001b[0m                            Traceback (most recent call last)",
      "\u001b[1;32mc:\\Users\\Slati\\Computational_Intelligence\\first\\set_covering.ipynb Cell 11\u001b[0m line \u001b[0;36m1\n\u001b[0;32m      <a href='vscode-notebook-cell:/c%3A/Users/Slati/Computational_Intelligence/first/set_covering.ipynb#X13sZmlsZQ%3D%3D?line=8'>9</a>\u001b[0m         pos \u001b[39m=\u001b[39m j\n\u001b[0;32m     <a href='vscode-notebook-cell:/c%3A/Users/Slati/Computational_Intelligence/first/set_covering.ipynb#X13sZmlsZQ%3D%3D?line=9'>10</a>\u001b[0m \u001b[39mif\u001b[39;00m counter \u001b[39m==\u001b[39m \u001b[39m1\u001b[39m:\n\u001b[1;32m---> <a href='vscode-notebook-cell:/c%3A/Users/Slati/Computational_Intelligence/first/set_covering.ipynb#X13sZmlsZQ%3D%3D?line=10'>11</a>\u001b[0m     initial_taken\u001b[39m.\u001b[39;49mput(pos)\n\u001b[0;32m     <a href='vscode-notebook-cell:/c%3A/Users/Slati/Computational_Intelligence/first/set_covering.ipynb#X13sZmlsZQ%3D%3D?line=11'>12</a>\u001b[0m     initial_not_taken\u001b[39m.\u001b[39mremove(pos)\n",
      "\u001b[1;31mAttributeError\u001b[0m: 'set' object has no attribute 'put'"
     ]
    }
   ],
   "source": [
    "for i in range(PROBLEM_SIZE):\n",
    "    counter =0\n",
    "    pos = -1\n",
    "    for j in range(NUM_SETS):\n",
    "        if SETS[j][i]:\n",
    "            counter+= 1\n",
    "            if counter > 1:\n",
    "                break\n",
    "            pos = j\n",
    "    if counter == 1:\n",
    "        initial_taken.put(pos)\n",
    "        initial_not_taken.remove(pos)"
   ]
  },
  {
   "cell_type": "code",
   "execution_count": 227,
   "metadata": {},
   "outputs": [
    {
     "data": {
      "text/plain": [
       "set()"
      ]
     },
     "execution_count": 227,
     "metadata": {},
     "output_type": "execute_result"
    }
   ],
   "source": [
    "initial_taken"
   ]
  },
  {
   "cell_type": "code",
   "execution_count": 9,
   "metadata": {},
   "outputs": [],
   "source": [
    "frontier = SimpleQueue()\n",
    "frontier.put(State(set(), set(range(NUM_SETS))))\n",
    "counter = 0"
   ]
  },
  {
   "cell_type": "code",
   "execution_count": 10,
   "metadata": {},
   "outputs": [
    {
     "name": "stdout",
     "output_type": "stream",
     "text": [
      "Solved in 20,184 steps\n"
     ]
    }
   ],
   "source": [
    "current_state = frontier.get()\n",
    "while not goal_check(current_state):\n",
    "    counter += 1\n",
    "    for action in current_state[1]:\n",
    "        new_state = State(current_state.taken ^ {action}, current_state.not_taken ^ {action})\n",
    "        frontier.put(new_state)\n",
    "    current_state = frontier.get()\n",
    "sum_vec = []\n",
    "print(f\"Solved in {counter:,} steps\")"
   ]
  },
  {
   "cell_type": "code",
   "execution_count": 11,
   "metadata": {},
   "outputs": [
    {
     "data": {
      "text/plain": [
       "{2, 5, 7, 9}"
      ]
     },
     "execution_count": 11,
     "metadata": {},
     "output_type": "execute_result"
    }
   ],
   "source": [
    "current_state.taken"
   ]
  },
  {
   "cell_type": "code",
   "execution_count": 12,
   "metadata": {},
   "outputs": [
    {
     "data": {
      "text/plain": [
       "(array([False, False, False, False, False]),\n",
       " array([False, False, False, False, False]),\n",
       " array([False, False, False,  True, False]),\n",
       " array([False, False, False, False, False]),\n",
       " array([False, False, False,  True, False]),\n",
       " array([False, False, False, False,  True]),\n",
       " array([False, False, False, False, False]),\n",
       " array([ True,  True, False, False, False]),\n",
       " array([False, False, False, False, False]),\n",
       " array([False, False,  True, False, False]),\n",
       " array([False, False, False, False,  True]),\n",
       " array([ True,  True, False, False, False]),\n",
       " array([False, False, False, False, False]),\n",
       " array([False, False, False,  True, False]),\n",
       " array([False, False, False, False, False]),\n",
       " array([False, False, False, False, False]),\n",
       " array([ True, False,  True, False, False]),\n",
       " array([False, False, False, False,  True]),\n",
       " array([False, False, False, False, False]),\n",
       " array([False, False, False, False, False]))"
      ]
     },
     "execution_count": 12,
     "metadata": {},
     "output_type": "execute_result"
    }
   ],
   "source": [
    "SETS"
   ]
  },
  {
   "cell_type": "code",
   "execution_count": 13,
   "metadata": {},
   "outputs": [],
   "source": [
    "frontier = PriorityQueue()\n",
    "frontier.put(State(set(), set(range(NUM_SETS))))\n",
    "counter = 0"
   ]
  },
  {
   "cell_type": "code",
   "execution_count": 14,
   "metadata": {},
   "outputs": [
    {
     "name": "stdout",
     "output_type": "stream",
     "text": [
      "STO AGG COUNTER\n",
      "STO AGG COUNTER\n",
      "STO AGG COUNTER\n",
      "STO AGG COUNTER\n",
      "STO AGG COUNTER\n",
      "STO AGG COUNTER\n",
      "STO AGG COUNTER\n",
      "STO AGG COUNTER\n",
      "STO AGG COUNTER\n",
      "STO AGG COUNTER\n",
      "STO AGG COUNTER\n",
      "STO AGG COUNTER\n",
      "STO AGG COUNTER\n",
      "STO AGG COUNTER\n",
      "STO AGG COUNTER\n",
      "STO AGG COUNTER\n",
      "STO AGG COUNTER\n",
      "STO AGG COUNTER\n",
      "STO AGG COUNTER\n",
      "STO AGG COUNTER\n",
      "STO AGG COUNTER\n",
      "STO AGG COUNTER\n",
      "STO AGG COUNTER\n",
      "STO AGG COUNTER\n",
      "STO AGG COUNTER\n",
      "STO AGG COUNTER\n",
      "STO AGG COUNTER\n",
      "STO AGG COUNTER\n",
      "STO AGG COUNTER\n",
      "STO AGG COUNTER\n",
      "Solved in 30 steps 4 solution {16, 13, 11, 5}\n"
     ]
    }
   ],
   "source": [
    "current_state2 = frontier.get()\n",
    "while not goal_check(current_state2):\n",
    "    counter += 1\n",
    "    print(\"STO AGG COUNTER\")\n",
    "    for action in current_state2[1]:\n",
    "        new_state = State(current_state2.taken ^- -à {action}, current_state2.not_taken ^ {action})\n",
    "        frontier.put([len(current_state2.taken)+distance(new_state),new_state])\n",
    "    current_state2 = frontier.get()[1]\n",
    "\n",
    "print(f\"Solved in {counter:,} steps {len(current_state2.taken)} solution {current_state2.taken}\")"
   ]
  },
  {
   "cell_type": "code",
   "execution_count": 233,
   "metadata": {},
   "outputs": [
    {
     "name": "stdout",
     "output_type": "stream",
     "text": [
      "{17, 27, 15}\n",
      "{17, 27, 15}\n"
     ]
    }
   ],
   "source": [
    "print(current_state.taken)\n",
    "print(current_state2.taken)"
   ]
  },
  {
   "cell_type": "code",
   "execution_count": 234,
   "metadata": {},
   "outputs": [
    {
     "name": "stdout",
     "output_type": "stream",
     "text": [
      "[False  True False False  True  True False  True  True False False  True\n",
      " False  True  True]\n",
      "[False False  True  True False False False False False  True False False\n",
      "  True False False]\n",
      "[ True False  True False  True False  True False False False  True  True\n",
      " False False False]\n"
     ]
    },
    {
     "data": {
      "text/plain": [
       "[None, None, None]"
      ]
     },
     "execution_count": 234,
     "metadata": {},
     "output_type": "execute_result"
    }
   ],
   "source": [
    "[print(SETS[asd]) for asd in current_state2.taken]"
   ]
  },
  {
   "cell_type": "code",
   "execution_count": 235,
   "metadata": {},
   "outputs": [
    {
     "data": {
      "text/plain": [
       "(array([False,  True, False,  True, False,  True, False, False, False,\n",
       "        False, False, False,  True, False,  True]),\n",
       " array([False, False,  True, False,  True, False, False, False, False,\n",
       "        False,  True, False, False, False, False]),\n",
       " array([False, False, False, False,  True, False, False, False, False,\n",
       "        False, False, False,  True,  True, False]),\n",
       " array([False, False, False,  True,  True,  True,  True, False, False,\n",
       "        False,  True, False, False,  True,  True]),\n",
       " array([False,  True, False, False, False, False,  True, False, False,\n",
       "         True, False, False, False, False,  True]),\n",
       " array([False, False,  True, False, False, False,  True, False, False,\n",
       "        False,  True, False, False, False, False]),\n",
       " array([False, False, False,  True, False, False, False, False,  True,\n",
       "        False, False,  True, False, False, False]),\n",
       " array([False, False, False, False, False, False, False,  True,  True,\n",
       "         True, False, False, False, False,  True]),\n",
       " array([ True,  True, False, False,  True,  True,  True, False, False,\n",
       "        False, False, False,  True, False,  True]),\n",
       " array([False, False, False, False, False, False, False, False,  True,\n",
       "        False, False, False,  True, False, False]),\n",
       " array([False,  True, False, False, False,  True,  True, False, False,\n",
       "        False, False, False, False, False,  True]),\n",
       " array([False, False, False, False, False, False, False, False, False,\n",
       "        False,  True, False, False, False, False]),\n",
       " array([False, False,  True, False, False, False,  True, False, False,\n",
       "        False, False, False, False, False, False]),\n",
       " array([False, False, False, False, False, False, False, False, False,\n",
       "        False, False,  True,  True,  True, False]),\n",
       " array([ True, False, False, False,  True, False, False, False,  True,\n",
       "        False, False, False, False, False,  True]),\n",
       " array([ True, False,  True, False,  True, False,  True, False, False,\n",
       "        False,  True,  True, False, False, False]),\n",
       " array([False, False, False, False, False, False,  True, False, False,\n",
       "        False,  True,  True, False, False, False]),\n",
       " array([False,  True, False, False,  True,  True, False,  True,  True,\n",
       "        False, False,  True, False,  True,  True]),\n",
       " array([False, False, False, False,  True, False,  True, False, False,\n",
       "        False, False, False, False, False,  True]),\n",
       " array([False,  True,  True, False,  True, False,  True, False, False,\n",
       "        False, False, False, False,  True, False]),\n",
       " array([False, False, False, False,  True,  True, False, False, False,\n",
       "        False, False, False, False, False,  True]),\n",
       " array([False, False,  True,  True, False, False, False, False, False,\n",
       "        False,  True,  True, False, False, False]),\n",
       " array([False,  True,  True, False, False, False, False, False, False,\n",
       "        False, False, False, False,  True,  True]),\n",
       " array([False, False, False,  True, False,  True,  True,  True, False,\n",
       "        False, False, False, False,  True, False]),\n",
       " array([False, False, False, False, False, False, False, False, False,\n",
       "        False,  True, False,  True, False, False]),\n",
       " array([False, False, False,  True, False, False, False, False, False,\n",
       "        False, False, False,  True, False, False]),\n",
       " array([False, False, False, False,  True, False, False, False, False,\n",
       "        False, False, False, False, False,  True]),\n",
       " array([False, False,  True,  True, False, False, False, False, False,\n",
       "         True, False, False,  True, False, False]),\n",
       " array([ True, False, False, False, False, False, False, False, False,\n",
       "        False, False,  True, False, False, False]),\n",
       " array([False,  True, False,  True, False,  True, False, False, False,\n",
       "        False,  True,  True, False,  True, False]))"
      ]
     },
     "execution_count": 235,
     "metadata": {},
     "output_type": "execute_result"
    }
   ],
   "source": [
    "SETS"
   ]
  }
 ],
 "metadata": {
  "kernelspec": {
   "display_name": "first",
   "language": "python",
   "name": "python3"
  },
  "language_info": {
   "codemirror_mode": {
    "name": "ipython",
    "version": 3
   },
   "file_extension": ".py",
   "mimetype": "text/x-python",
   "name": "python",
   "nbconvert_exporter": "python",
   "pygments_lexer": "ipython3",
   "version": "3.12.0"
  }
 },
 "nbformat": 4,
 "nbformat_minor": 2
}
